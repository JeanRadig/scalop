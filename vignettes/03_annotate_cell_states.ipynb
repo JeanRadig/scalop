{
 "cells": [
  {
   "cell_type": "code",
   "execution_count": null,
   "metadata": {
    "vscode": {
     "languageId": "plaintext"
    }
   },
   "outputs": [],
   "source": [
    "# Ensure you activated the Docker. See README.md for instructions. \n",
    "library(zellkonverter)\n",
    "library(Matrix)\n",
    "library(SingleCellExperiment)\n",
    "library(dplyr)\n",
    "library(tidyverse)\n",
    "library(scalop)"
   ]
  },
  {
   "cell_type": "markdown",
   "metadata": {},
   "source": [
    "# Annotate your dataset with the four GB states\n",
    "- Compute the state scores\n",
    "- Plot the quadrant\n",
    "- Annotate in function of max score"
   ]
  },
  {
   "cell_type": "markdown",
   "metadata": {},
   "source": [
    "### Load the data"
   ]
  },
  {
   "cell_type": "code",
   "execution_count": null,
   "metadata": {
    "vscode": {
     "languageId": "plaintext"
    }
   },
   "outputs": [],
   "source": [
    "file_path <- \"../data/adata.h5ad\"\n",
    "\n",
    "# Read the h5ad file into an R object\n",
    "sce <- readH5AD(file_path)\n",
    "\n",
    "# Inspect the loaded data\n",
    "sce"
   ]
  },
  {
   "cell_type": "markdown",
   "metadata": {},
   "source": [
    "### Compute the GB state scores for each cell"
   ]
  },
  {
   "cell_type": "code",
   "execution_count": null,
   "metadata": {
    "vscode": {
     "languageId": "plaintext"
    }
   },
   "outputs": [],
   "source": [
    "# Extract the expression matrix (assuming 'X' is the matrix in the 'assays' slot)\n",
    "m <- as.matrix(assay(sce, \"logcounts\"))\n",
    "\n",
    "# Load the signature file (assuming it is saved as 'sigs.tsv')\n",
    "sigs <- Signatures_GBM\n",
    "sigs <- sigs[!(names(sigs) %in% c('G1S', 'G2M'))]\n",
    "\n",
    "\n",
    "# Run sigScores with the specified parameters\n",
    "sig_scores_result <- sigScores(\n",
    "  m = m,            # The filtered expression matrix\n",
    "  sigs = sigs,      # The gene signatures from the TSV file\n",
    "  groups = NULL,    # Assuming no grouping for now\n",
    "  center.rows = TRUE,   # Centering rows\n",
    "  center = TRUE,        # Centering\n",
    "  expr.center = TRUE,   # Expression center\n",
    "  expr.bin.m = NULL,    # Not providing binning matrix\n",
    "  expr.bins = NULL,     # No binning data\n",
    "  expr.sigs = NULL,     # No binning signals\n",
    "  expr.nbin = 30,       # Number of bins\n",
    "  expr.binsize = 100,   # Size of each bin\n",
    "  conserved.genes = 0.7, # Proportion of conserved genes\n",
    "  replace = FALSE       # Do not replace existing data\n",
    ")\n",
    "\n",
    "# You can check the result\n",
    "print(sig_scores_result)\n",
    "\n",
    "# Save the result\n",
    "saveRDS(sig_scores_result, file = \"../results/sig_scores_result.rds\")"
   ]
  },
  {
   "cell_type": "code",
   "execution_count": null,
   "metadata": {
    "vscode": {
     "languageId": "plaintext"
    }
   },
   "outputs": [],
   "source": [
    "scores <- readRDS(\"../results/sig_scores_result.rds\")"
   ]
  },
  {
   "cell_type": "code",
   "execution_count": null,
   "metadata": {
    "vscode": {
     "languageId": "plaintext"
    }
   },
   "outputs": [],
   "source": [
    "scores <- as_four_state_gbm(scores)"
   ]
  },
  {
   "cell_type": "code",
   "execution_count": null,
   "metadata": {
    "vscode": {
     "languageId": "plaintext"
    }
   },
   "outputs": [],
   "source": [
    "scores"
   ]
  },
  {
   "cell_type": "markdown",
   "metadata": {},
   "source": [
    "### Plot quadrant"
   ]
  },
  {
   "cell_type": "code",
   "execution_count": null,
   "metadata": {
    "vscode": {
     "languageId": "plaintext"
    }
   },
   "outputs": [],
   "source": [
    "# Plot quadrant\n",
    "dat_hrchy = hierarchy(scores, quadrants=c('AC', 'MES', 'OPC', 'NPC'))\n",
    "plot(dat_hrchy$X, dat_hrchy$Y,\n",
    "     main = \"Neftel from GBmap. Could reproduce quadrant\",   # Title of the plot\n",
    "     xlab = \"X Values\",                     # Label for the x-axis\n",
    "     ylab = \"Y Values\",                     # Label for the y-axis\n",
    "     pch = 19,                              # Type of point (filled circle)\n",
    "     col = \"blue\")                          # Color of the points"
   ]
  },
  {
   "cell_type": "markdown",
   "metadata": {},
   "source": [
    "### Annotate the cells"
   ]
  },
  {
   "cell_type": "code",
   "execution_count": null,
   "metadata": {
    "vscode": {
     "languageId": "plaintext"
    }
   },
   "outputs": [],
   "source": [
    "# Annotate the cells in function of highest score. Choose min and diff in function of the scores in your dataset. \n",
    "# In our case, about 70% of the cells had a score above 0.3. \n",
    "annotation<-maxcol_sctrict(scores, min=0.3, diff=0.1)"
   ]
  },
  {
   "cell_type": "code",
   "execution_count": null,
   "metadata": {
    "vscode": {
     "languageId": "plaintext"
    }
   },
   "outputs": [],
   "source": [
    "annotation"
   ]
  }
 ],
 "metadata": {
  "language_info": {
   "name": "python"
  }
 },
 "nbformat": 4,
 "nbformat_minor": 2
}
